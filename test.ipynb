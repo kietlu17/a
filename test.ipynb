{
 "cells": [
  {
   "cell_type": "code",
   "execution_count": 4,
   "metadata": {},
   "outputs": [],
   "source": [
    "import pandas as pd"
   ]
  },
  {
   "cell_type": "code",
   "execution_count": 6,
   "metadata": {},
   "outputs": [
    {
     "data": {
      "text/html": [
       "<div>\n",
       "<style scoped>\n",
       "    .dataframe tbody tr th:only-of-type {\n",
       "        vertical-align: middle;\n",
       "    }\n",
       "\n",
       "    .dataframe tbody tr th {\n",
       "        vertical-align: top;\n",
       "    }\n",
       "\n",
       "    .dataframe thead th {\n",
       "        text-align: right;\n",
       "    }\n",
       "</style>\n",
       "<table border=\"1\" class=\"dataframe\">\n",
       "  <thead>\n",
       "    <tr style=\"text-align: right;\">\n",
       "      <th></th>\n",
       "      <th>TimeToPlay</th>\n",
       "      <th>TimeToStudy</th>\n",
       "      <th>ProfessionalScore</th>\n",
       "      <th>InterviewScore</th>\n",
       "      <th>Sexuality</th>\n",
       "      <th>ExpectedSalary</th>\n",
       "      <th>SocialNetworkingTimeUse</th>\n",
       "      <th>Result</th>\n",
       "    </tr>\n",
       "  </thead>\n",
       "  <tbody>\n",
       "    <tr>\n",
       "      <th>0</th>\n",
       "      <td>0.1</td>\n",
       "      <td>4.4</td>\n",
       "      <td>2.5</td>\n",
       "      <td>F</td>\n",
       "      <td>T</td>\n",
       "      <td>249.6</td>\n",
       "      <td>Much</td>\n",
       "      <td>NO</td>\n",
       "    </tr>\n",
       "    <tr>\n",
       "      <th>1</th>\n",
       "      <td>4.1</td>\n",
       "      <td>5.7</td>\n",
       "      <td>3.7</td>\n",
       "      <td>D</td>\n",
       "      <td>L</td>\n",
       "      <td>114.6</td>\n",
       "      <td>Pretty</td>\n",
       "      <td>YES</td>\n",
       "    </tr>\n",
       "    <tr>\n",
       "      <th>2</th>\n",
       "      <td>7.3</td>\n",
       "      <td>0.9</td>\n",
       "      <td>2.7</td>\n",
       "      <td>D</td>\n",
       "      <td>T</td>\n",
       "      <td>862.0</td>\n",
       "      <td>Almost</td>\n",
       "      <td>NO</td>\n",
       "    </tr>\n",
       "    <tr>\n",
       "      <th>3</th>\n",
       "      <td>6.2</td>\n",
       "      <td>8.8</td>\n",
       "      <td>2.7</td>\n",
       "      <td>D</td>\n",
       "      <td>T</td>\n",
       "      <td>147.2</td>\n",
       "      <td>Almost</td>\n",
       "      <td>YES</td>\n",
       "    </tr>\n",
       "    <tr>\n",
       "      <th>4</th>\n",
       "      <td>5.0</td>\n",
       "      <td>3.1</td>\n",
       "      <td>0.2</td>\n",
       "      <td>D</td>\n",
       "      <td>Q</td>\n",
       "      <td>653.4</td>\n",
       "      <td>Pretty</td>\n",
       "      <td>NO</td>\n",
       "    </tr>\n",
       "  </tbody>\n",
       "</table>\n",
       "</div>"
      ],
      "text/plain": [
       "   TimeToPlay  TimeToStudy  ProfessionalScore InterviewScore Sexuality  \\\n",
       "0         0.1          4.4                2.5              F         T   \n",
       "1         4.1          5.7                3.7              D         L   \n",
       "2         7.3          0.9                2.7              D         T   \n",
       "3         6.2          8.8                2.7              D         T   \n",
       "4         5.0          3.1                0.2              D         Q   \n",
       "\n",
       "   ExpectedSalary SocialNetworkingTimeUse Result  \n",
       "0           249.6                    Much     NO  \n",
       "1           114.6                  Pretty    YES  \n",
       "2           862.0                  Almost     NO  \n",
       "3           147.2                  Almost    YES  \n",
       "4           653.4                  Pretty     NO  "
      ]
     },
     "execution_count": 6,
     "metadata": {},
     "output_type": "execute_result"
    }
   ],
   "source": [
    "df = pd.read_csv('data-midterm.csv')\n",
    "df.head()"
   ]
  },
  {
   "cell_type": "code",
   "execution_count": 7,
   "metadata": {},
   "outputs": [
    {
     "data": {
      "image/png": "[encoded data removed]",
      "text/plain": [
       "<Figure size 576x432 with 1 Axes>"
      ]
     },
     "metadata": {
      "needs_background": "light"
     },
     "output_type": "display_data"
    }
   ],
   "source": [
    "import pandas as pd\n",
    "import seaborn as sns\n",
    "import matplotlib.pyplot as plt\n",
    "\n",
    "#cau 1\n",
    "# Tạo Box-plot cho cột 'ProfessionalScore'\n",
    "plt.figure(figsize=(8, 6))\n",
    "sns.boxplot(y='ProfessionalScore', data=df)\n",
    "\n",
    "# Hiển thị biểu đồ\n",
    "plt.title('Boxplot of ProfessionalScore')\n",
    "plt.show()"
   ]
  },
  {
   "cell_type": "code",
   "execution_count": 8,
   "metadata": {},
   "outputs": [
    {
     "name": "stdout",
     "output_type": "stream",
     "text": [
      "                            OLS Regression Results                            \n",
      "==============================================================================\n",
      "Dep. Variable:      ProfessionalScore   R-squared:                       0.003\n",
      "Model:                            OLS   Adj. R-squared:                  0.001\n",
      "Method:                 Least Squares   F-statistic:                     1.253\n",
      "Date:                Sat, 12 Oct 2024   Prob (F-statistic):              0.286\n",
      "Time:                        01:29:44   Log-Likelihood:                -1550.3\n",
      "No. Observations:                1000   AIC:                             3107.\n",
      "Df Residuals:                     997   BIC:                             3121.\n",
      "Df Model:                           2                                         \n",
      "Covariance Type:            nonrobust                                         \n",
      "===============================================================================\n",
      "                  coef    std err          t      P>|t|      [0.025      0.975]\n",
      "-------------------------------------------------------------------------------\n",
      "const           1.8134      0.096     18.860      0.000       1.625       2.002\n",
      "TimeToPlay      0.0187      0.013      1.490      0.137      -0.006       0.043\n",
      "TimeToStudy     0.0062      0.013      0.488      0.626      -0.019       0.031\n",
      "==============================================================================\n",
      "Omnibus:                      473.605   Durbin-Watson:                   1.917\n",
      "Prob(Omnibus):                  0.000   Jarque-Bera (JB):               54.357\n",
      "Skew:                           0.044   Prob(JB):                     1.57e-12\n",
      "Kurtosis:                       1.861   Cond. No.                         20.9\n",
      "==============================================================================\n",
      "\n",
      "Notes:\n",
      "[1] Standard Errors assume that the covariance matrix of the errors is correctly specified.\n"
     ]
    }
   ],
   "source": [
    "import pandas as pd\n",
    "import statsmodels.api as sm\n",
    "\n",
    "# Giả định bạn có DataFrame df với các cột TimeToPlay (thời gian dành cho việc giải trí), TimeToStudy (thời gian dành cho việc học) và ProfessionalScore (điểm đánh giá năng lực)\n",
    "\n",
    "# Xác định biến độc lập (thời gian học và thời gian giải trí) và biến phụ thuộc (điểm đánh giá năng lực)\n",
    "X = df[['TimeToPlay', 'TimeToStudy']]\n",
    "X = sm.add_constant(X)  # Thêm hệ số chặn (constant)\n",
    "y = df['ProfessionalScore']\n",
    "\n",
    "# Tạo mô hình hồi quy tuyến tính\n",
    "model = sm.OLS(y, X).fit()\n",
    "\n",
    "# Hiển thị kết quả phân tích hồi quy\n",
    "print(model.summary())"
   ]
  },
  {
   "cell_type": "code",
   "execution_count": 9,
   "metadata": {},
   "outputs": [
    {
     "name": "stdout",
     "output_type": "stream",
     "text": [
      "P-value: 0.42667670534192237\n"
     ]
    }
   ],
   "source": [
    "import pandas as pd\n",
    "from scipy import stats\n",
    "\n",
    "# Giả định bạn có DataFrame df với các cột 'TimeToPlay', 'TimeToStudy', 'Sexuality', và 'InterviewScore'\n",
    "\n",
    "# Lọc dữ liệu theo nhóm Sexuality = 'T' và InterviewScore = 'B'\n",
    "filtered_data = df[(df['Sexuality'] == 'T') & (df['InterviewScore'] == 'B')]\n",
    "\n",
    "# Kiểm định t-test cho TimeToPlay và TimeToStudy\n",
    "t_stat, p_value = stats.ttest_ind(filtered_data['TimeToPlay'], filtered_data['TimeToStudy'])\n",
    "\n",
    "# In kết quả p-value\n",
    "print(f'P-value: {p_value}')"
   ]
  },
  {
   "cell_type": "code",
   "execution_count": 10,
   "metadata": {},
   "outputs": [
    {
     "name": "stdout",
     "output_type": "stream",
     "text": [
      "Số lượng phần tử thuộc nhóm Good: 201\n"
     ]
    }
   ],
   "source": [
    "import pandas as pd\n",
    "\n",
    "# Giả định bạn đã có DataFrame df chứa cột TimeToStudy\n",
    "\n",
    "# Chia TimeToStudy thành các khoảng và gán nhãn\n",
    "bins = [0, 5, 7, 9, float('Inf')]\n",
    "labels = ['Bad', 'Pretty', 'Good', 'Excellent']\n",
    "df['StudyGroup'] = pd.cut(df['TimeToStudy'], bins=bins, labels=labels, right=False)\n",
    "\n",
    "# Đếm số lượng phần tử thuộc nhóm \"Good\"\n",
    "good_count = df['StudyGroup'].value_counts()['Good']\n",
    "print(f'Số lượng phần tử thuộc nhóm Good: {good_count}')"
   ]
  },
  {
   "cell_type": "code",
   "execution_count": 11,
   "metadata": {},
   "outputs": [
    {
     "name": "stdout",
     "output_type": "stream",
     "text": [
      "Kích thước của dữ liệu: (1000, 9)\n"
     ]
    }
   ],
   "source": [
    "import pandas as pd\n",
    "\n",
    "# Giả định bạn đã có DataFrame df\n",
    "\n",
    "# Hiển thị kích thước của dữ liệu\n",
    "data_shape = df.shape\n",
    "print(f'Kích thước của dữ liệu: {data_shape}')"
   ]
  },
  {
   "cell_type": "code",
   "execution_count": 12,
   "metadata": {},
   "outputs": [
    {
     "name": "stdout",
     "output_type": "stream",
     "text": [
      "Độ rộng của mỗi bin là: 0.5\n"
     ]
    }
   ],
   "source": [
    "import pandas as pd\n",
    "\n",
    "# Giả định bạn đã có DataFrame df chứa cột TimeToStudy\n",
    "# Tìm giá trị lớn nhất và nhỏ nhất trong TimeToStudy\n",
    "min_value = df['TimeToStudy'].min()\n",
    "max_value = df['TimeToStudy'].max()\n",
    "\n",
    "# Số bin\n",
    "bins = 20\n",
    "\n",
    "# Tính độ rộng của mỗi bin\n",
    "bin_width = (max_value - min_value) / bins\n",
    "print(f'Độ rộng của mỗi bin là: {bin_width}')"
   ]
  },
  {
   "cell_type": "code",
   "execution_count": 13,
   "metadata": {},
   "outputs": [
    {
     "data": {
      "image/png": "[encoded data removed]",
      "text/plain": [
       "<Figure size 576x432 with 1 Axes>"
      ]
     },
     "metadata": {},
     "output_type": "display_data"
    }
   ],
   "source": [
    "import pandas as pd\n",
    "import matplotlib.pyplot as plt\n",
    "\n",
    "# Giả định bạn đã có DataFrame df với cột 'Sexuality' chứa các nhóm giới tính\n",
    "\n",
    "# Tính toán tỉ lệ phần trăm của từng nhóm giới tính\n",
    "gender_counts = df['Sexuality'].value_counts(normalize=True) * 100\n",
    "\n",
    "# Tạo biểu đồ Pie\n",
    "plt.figure(figsize=(8, 6))\n",
    "plt.pie(gender_counts, labels=gender_counts.index, autopct='%1.1f%%', colors=['#ff9999','#66b3ff','#99ff99','#ffcc99'])\n",
    "plt.title('Tỉ lệ phần trăm các nhóm giới tính trong dữ liệu')\n",
    "plt.show()"
   ]
  },
  {
   "cell_type": "code",
   "execution_count": 14,
   "metadata": {},
   "outputs": [
    {
     "name": "stdout",
     "output_type": "stream",
     "text": [
      "Những nhóm xu hướng tính dục có điểm đánh giá năng lực lớn hơn trung bình:\n",
      "Sexuality\n",
      "B    2.025564\n",
      "Q    1.960533\n",
      "Name: ProfessionalScore, dtype: float64\n"
     ]
    }
   ],
   "source": [
    "import pandas as pd\n",
    "\n",
    "# Giả định bạn đã có DataFrame df với các cột 'Sexuality' và 'ProfessionalScore'\n",
    "\n",
    "# Tính trung bình điểm đánh giá năng lực của tất cả sinh viên\n",
    "overall_mean_score = df['ProfessionalScore'].mean()\n",
    "\n",
    "# Tính trung bình điểm đánh giá năng lực cho từng nhóm xu hướng tính dục\n",
    "grouped_scores = df.groupby('Sexuality')['ProfessionalScore'].mean()\n",
    "\n",
    "# Lọc ra các nhóm có trung bình điểm đánh giá năng lực lớn hơn trung bình chung\n",
    "higher_than_average = grouped_scores[grouped_scores > overall_mean_score]\n",
    "\n",
    "# Hiển thị kết quả\n",
    "print(\"Những nhóm xu hướng tính dục có điểm đánh giá năng lực lớn hơn trung bình:\")\n",
    "print(higher_than_average)"
   ]
  },
  {
   "cell_type": "code",
   "execution_count": 16,
   "metadata": {},
   "outputs": [
    {
     "name": "stdout",
     "output_type": "stream",
     "text": [
      "Khoảng dữ liệu nghi ngờ bất thường: (-1.8499999999999996, 5.75)\n"
     ]
    }
   ],
   "source": [
    "import pandas as pd\n",
    "\n",
    "# Giả định bạn có DataFrame df với cột 'ProfessionalScore'\n",
    "Q1 = df['ProfessionalScore'].quantile(0.25)\n",
    "Q3 = df['ProfessionalScore'].quantile(0.75)\n",
    "IQR = Q3 - Q1\n",
    "\n",
    "# Tính khoảng dữ liệu nghi ngờ bất thường\n",
    "lower_bound = Q1 - 1.5 * IQR\n",
    "upper_bound = Q3 + 1.5 * IQR\n",
    "\n",
    "print(f'Khoảng dữ liệu nghi ngờ bất thường: ({lower_bound}, {upper_bound})')"
   ]
  },
  {
   "cell_type": "code",
   "execution_count": 17,
   "metadata": {},
   "outputs": [
    {
     "name": "stdout",
     "output_type": "stream",
     "text": [
      "ProfessionalScore = 2.7 thuộc nhóm: D\n"
     ]
    }
   ],
   "source": [
    "# Chia cột ProfessionalScore thành các khoảng phân vị\n",
    "bins = [0, 0.2, 0.5, 0.6, 0.8, 1]\n",
    "labels = ['A', 'B', 'C', 'D', 'E']\n",
    "\n",
    "# Sử dụng phân vị để chia các nhóm\n",
    "df['ScoreGroup'] = pd.qcut(df['ProfessionalScore'].rank(pct=True), q=bins, labels=labels)\n",
    "\n",
    "# Kiểm tra giá trị ProfessionalScore = 2.7 thuộc nhóm nào\n",
    "score_group = df.loc[df['ProfessionalScore'] == 2.7, 'ScoreGroup'].values[0]\n",
    "print(f'ProfessionalScore = 2.7 thuộc nhóm: {score_group}')"
   ]
  },
  {
   "cell_type": "code",
   "execution_count": 18,
   "metadata": {},
   "outputs": [
    {
     "name": "stdout",
     "output_type": "stream",
     "text": [
      "T-statistic: -14.333435926932262, P-value: 1.634730670328841e-42\n"
     ]
    }
   ],
   "source": [
    "import scipy.stats as stats\n",
    "\n",
    "# Giả sử bạn đã có DataFrame df chứa cột 'ProfessionalScore'\n",
    "\n",
    "# Trung bình giả định cần kiểm tra là 2.4575\n",
    "mu_test = 2.4575\n",
    "\n",
    "# Thực hiện kiểm định t-test một mẫu\n",
    "t_stat, p_value = stats.ttest_1samp(df['ProfessionalScore'], mu_test)\n",
    "\n",
    "# In kết quả\n",
    "print(f'T-statistic: {t_stat}, P-value: {p_value}')"
   ]
  },
  {
   "cell_type": "code",
   "execution_count": 21,
   "metadata": {},
   "outputs": [
    {
     "name": "stdout",
     "output_type": "stream",
     "text": [
      "Chi-square statistic: 8.569523652470142, P-value: 0.9300780652577139\n"
     ]
    }
   ],
   "source": [
    "import pandas as pd\n",
    "from scipy.stats import chi2_contingency\n",
    "\n",
    "# Giả sử bạn đã có DataFrame df với các cột 'InterviewResult' (Kết quả phỏng vấn) và 'Sexuality' (Xu hướng tính dục)\n",
    "\n",
    "# Tạo bảng phân phối chéo giữa Kết quả phỏng vấn và Xu hướng tính dục\n",
    "crosstab = pd.crosstab(df['InterviewScore'], df['Sexuality'])\n",
    "\n",
    "# Thực hiện kiểm định Chi-square\n",
    "chi2_stat, p_value, dof, expected = chi2_contingency(crosstab)\n",
    "\n",
    "# In kết quả\n",
    "print(f'Chi-square statistic: {chi2_stat}, P-value: {p_value}')"
   ]
  },
  {
   "cell_type": "code",
   "execution_count": 26,
   "metadata": {},
   "outputs": [
    {
     "name": "stdout",
     "output_type": "stream",
     "text": [
      "                            OLS Regression Results                            \n",
      "==============================================================================\n",
      "Dep. Variable:      ProfessionalScore   R-squared:                       0.003\n",
      "Model:                            OLS   Adj. R-squared:                  0.001\n",
      "Method:                 Least Squares   F-statistic:                     1.253\n",
      "Date:                Sat, 12 Oct 2024   Prob (F-statistic):              0.286\n",
      "Time:                        02:11:50   Log-Likelihood:                -1550.3\n",
      "No. Observations:                1000   AIC:                             3107.\n",
      "Df Residuals:                     997   BIC:                             3121.\n",
      "Df Model:                           2                                         \n",
      "Covariance Type:            nonrobust                                         \n",
      "===============================================================================\n",
      "                  coef    std err          t      P>|t|      [0.025      0.975]\n",
      "-------------------------------------------------------------------------------\n",
      "const           1.8134      0.096     18.860      0.000       1.625       2.002\n",
      "TimeToStudy     0.0062      0.013      0.488      0.626      -0.019       0.031\n",
      "TimeToPlay      0.0187      0.013      1.490      0.137      -0.006       0.043\n",
      "==============================================================================\n",
      "Omnibus:                      473.605   Durbin-Watson:                   1.917\n",
      "Prob(Omnibus):                  0.000   Jarque-Bera (JB):               54.357\n",
      "Skew:                           0.044   Prob(JB):                     1.57e-12\n",
      "Kurtosis:                       1.861   Cond. No.                         20.9\n",
      "==============================================================================\n",
      "\n",
      "Notes:\n",
      "[1] Standard Errors assume that the covariance matrix of the errors is correctly specified.\n",
      "Điểm đánh giá năng lực dự đoán: 1.9752219177632324\n"
     ]
    }
   ],
   "source": [
    "import statsmodels.api as sm\n",
    "import pandas as pd\n",
    "\n",
    "# Giả sử bạn đã có DataFrame df chứa các cột TimeToStudy, TimeToRest, và ProfessionalScore\n",
    "\n",
    "# Tạo biến độc lập (thời gian tự học và thời gian nghỉ ngơi)\n",
    "X = df[['TimeToStudy', 'TimeToPlay']]\n",
    "\n",
    "# Thêm hằng số vào mô hình\n",
    "X = sm.add_constant(X)  # Thêm hệ số chặn (intercept)\n",
    "\n",
    "# Biến phụ thuộc (điểm đánh giá năng lực)\n",
    "y = df['ProfessionalScore']\n",
    "\n",
    "# Huấn luyện mô hình hồi quy tuyến tính\n",
    "model = sm.OLS(y, X).fit()\n",
    "\n",
    "# Hiển thị tóm tắt kết quả hồi quy\n",
    "print(model.summary())\n",
    "\n",
    "# Thời gian tự học và nghỉ để dự đoán\n",
    "time_to_study = 5.0\n",
    "time_to_rest = 7.0\n",
    "\n",
    "# Dự đoán điểm đánh giá năng lực dựa trên giá trị đã cho\n",
    "predicted_score = model.predict([1, time_to_study, time_to_rest])  # [1] cho hệ số chặn (constant)\n",
    "print(f'Điểm đánh giá năng lực dự đoán: {predicted_score[0]}')"
   ]
  },
  {
   "cell_type": "code",
   "execution_count": 24,
   "metadata": {},
   "outputs": [
    {
     "name": "stdout",
     "output_type": "stream",
     "text": [
      "25% số sinh viên có điểm đánh giá năng lực cao hơn 2.9\n"
     ]
    }
   ],
   "source": [
    "# Tính phân vị thứ 75 của cột ProfessionalScore\n",
    "q3_value = df['ProfessionalScore'].quantile(0.75)\n",
    "print(f'25% số sinh viên có điểm đánh giá năng lực cao hơn {q3_value}')"
   ]
  },
  {
   "cell_type": "code",
   "execution_count": 27,
   "metadata": {},
   "outputs": [
    {
     "name": "stdout",
     "output_type": "stream",
     "text": [
      "Giá trị nhỏ nhất trong crosstab thuộc nhóm: ('B', 'A')\n",
      "Đa số điểm phỏng vấn của sinh viên là: D\n"
     ]
    }
   ],
   "source": [
    "import pandas as pd\n",
    "\n",
    "# Giả sử bạn có DataFrame df với cột 'Sexuality' (Xu hướng tính dục) và 'InterviewScore' (Điểm phỏng vấn)\n",
    "\n",
    "# Tạo bảng crosstab giữa Xu hướng tính dục và Điểm phỏng vấn\n",
    "crosstab = pd.crosstab(df['Sexuality'], df['InterviewScore'])\n",
    "\n",
    "# Tìm giá trị nhỏ nhất trong bảng Crosstab\n",
    "min_value = crosstab.min().min()  # Tìm giá trị nhỏ nhất\n",
    "min_group = crosstab[crosstab == min_value].stack().index[0]  # Nhóm chứa giá trị nhỏ nhất\n",
    "\n",
    "# In kết quả\n",
    "print(f'Giá trị nhỏ nhất trong crosstab thuộc nhóm: {min_group}')\n",
    "\n",
    "# Tìm điểm phỏng vấn phổ biến nhất (mode) của sinh viên\n",
    "most_common_interview_score = df['InterviewScore'].mode()[0]\n",
    "print(f'Đa số điểm phỏng vấn của sinh viên là: {most_common_interview_score}')"
   ]
  }
 ],
 "metadata": {
  "kernelspec": {
   "display_name": "base",
   "language": "python",
   "name": "python3"
  },
  "language_info": {
   "codemirror_mode": {
    "name": "ipython",
    "version": 3
   },
   "file_extension": ".py",
   "mimetype": "text/x-python",
   "name": "python",
   "nbconvert_exporter": "python",
   "pygments_lexer": "ipython3",
   "version": "3.11.4"
  }
 },
 "nbformat": 4,
 "nbformat_minor": 2
}
